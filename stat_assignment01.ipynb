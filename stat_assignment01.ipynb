{
 "cells": [
  {
   "cell_type": "markdown",
   "id": "d70da406-941f-4215-8d5a-bcfa3ba510b4",
   "metadata": {},
   "source": [
    "#### Q1. What is Statistics?"
   ]
  },
  {
   "cell_type": "code",
   "execution_count": 1,
   "id": "00eeb259-c200-4cfc-8af2-7d290d652a96",
   "metadata": {},
   "outputs": [],
   "source": [
    "# Statistics is the science of collecting ,organizing and analysing the data ."
   ]
  },
  {
   "cell_type": "code",
   "execution_count": null,
   "id": "81a84595-1eb6-4eeb-a3f2-096941bf1d6b",
   "metadata": {},
   "outputs": [],
   "source": []
  },
  {
   "cell_type": "markdown",
   "id": "6a956204-0111-4f2d-abf1-a9d7ac723a85",
   "metadata": {},
   "source": [
    "#### Q2. Define the different types of statistics and give an example of when each type might be used."
   ]
  },
  {
   "cell_type": "code",
   "execution_count": 2,
   "id": "99fcc2b8-a34c-482d-aee0-a1384cbbfd16",
   "metadata": {},
   "outputs": [],
   "source": [
    "# two different types of statistics are :-"
   ]
  },
  {
   "cell_type": "code",
   "execution_count": 3,
   "id": "748e99ad-ea95-4ee1-8e00-85c4ede37664",
   "metadata": {},
   "outputs": [],
   "source": [
    "# 1) Discriptive statistics  :- it consist of organizing and summerizing data.\n",
    "\n",
    "#                         example:-  average hight of entire classroom"
   ]
  },
  {
   "cell_type": "code",
   "execution_count": 1,
   "id": "2c5e0dc8-5a17-4c5b-a558-dee2b7d8daae",
   "metadata": {},
   "outputs": [],
   "source": [
    "# 2) Inferential statistics :- it consist of using data you have measured from conclusion.\n",
    "\n",
    "#                         example:- hight of the student in classroom is similar to what you expect in entire college"
   ]
  },
  {
   "cell_type": "code",
   "execution_count": null,
   "id": "8db1c2cb-0d49-4c16-bbe1-9983ff17f93c",
   "metadata": {},
   "outputs": [],
   "source": []
  },
  {
   "cell_type": "markdown",
   "id": "588a8f07-69e3-4b96-9f80-e8caf73828f2",
   "metadata": {},
   "source": [
    "#### Q3.  What are the different types of data and how do they differ from each other? Provide an example of \n",
    "####      each type of data."
   ]
  },
  {
   "cell_type": "code",
   "execution_count": 3,
   "id": "0cb483d9-decc-46aa-b477-e7180ed47d1a",
   "metadata": {},
   "outputs": [],
   "source": [
    "# There are two different types of data :-"
   ]
  },
  {
   "cell_type": "code",
   "execution_count": 1,
   "id": "11b128f7-639c-40a5-a56f-3ce6aeb65e06",
   "metadata": {},
   "outputs": [],
   "source": [
    "# 1) Quantitative data  :-  The data is expressed as numbers and values.\n",
    "#                           Can be quantified and is measurable.   \n",
    "\n",
    "#                          - Examples include age, height, and the number of visitors a website gets per day."
   ]
  },
  {
   "cell_type": "code",
   "execution_count": 2,
   "id": "857e3fb3-4b23-4268-b299-5ad1af17b8ec",
   "metadata": {},
   "outputs": [],
   "source": [
    "# 2) Qualitative data   :- Can’t be measured.\n",
    "#                          It is descriptive and can’t be counted or measured using numbers.\n",
    "\n",
    "#                         - Example include a person’s name, hair color, and occupation."
   ]
  },
  {
   "cell_type": "code",
   "execution_count": null,
   "id": "0eaacfa2-a64d-47c8-bbdd-5c28f2f230f9",
   "metadata": {},
   "outputs": [],
   "source": []
  },
  {
   "cell_type": "code",
   "execution_count": null,
   "id": "ac6ee0d8-4faf-4092-a66a-14024a66798a",
   "metadata": {},
   "outputs": [],
   "source": []
  },
  {
   "cell_type": "markdown",
   "id": "23bacf29-43aa-4bd5-b3e8-368dc44b8f80",
   "metadata": {},
   "source": [
    "#### Q4. Categorise the following datasets with respect to quantitative and qualitative data types:\n",
    "\n",
    "#### (i)\tGrading in exam: A+, A, B+, B, C+, C, D, E\n",
    "\n",
    "#### (ii)\tColour of mangoes: yellow, green, orange, red\n",
    "\n",
    "#### (iii)\tHeight data of a class: [178.9, 179, 179.5, 176, 177.2, 178.3, 175.8,...]\n",
    "\n",
    "#### (iv)\tNumber of mangoes exported by a farm: [500, 600, 478, 672, …]"
   ]
  },
  {
   "cell_type": "code",
   "execution_count": 3,
   "id": "8795ef45-f10a-439d-ae8b-40045440e52b",
   "metadata": {},
   "outputs": [],
   "source": [
    "# 1) Quantitative data type"
   ]
  },
  {
   "cell_type": "code",
   "execution_count": null,
   "id": "d4608687-a60d-4c5a-a9b7-66d41fde7699",
   "metadata": {},
   "outputs": [],
   "source": [
    "# 2) Quantitative data type"
   ]
  },
  {
   "cell_type": "code",
   "execution_count": null,
   "id": "85b38f5e-7266-43c5-912d-2421bed11314",
   "metadata": {},
   "outputs": [],
   "source": [
    "# 3) Qualitative data types"
   ]
  },
  {
   "cell_type": "code",
   "execution_count": 4,
   "id": "12b14717-5cd9-40b4-baea-ad667f3917ae",
   "metadata": {},
   "outputs": [],
   "source": [
    "# 4) Qualitative data types"
   ]
  },
  {
   "cell_type": "code",
   "execution_count": null,
   "id": "8be74220-91dc-42de-b6de-9cdeda4a65e9",
   "metadata": {},
   "outputs": [],
   "source": []
  },
  {
   "cell_type": "code",
   "execution_count": null,
   "id": "521d66d9-96e8-4adf-a80e-3310e1276b3f",
   "metadata": {},
   "outputs": [],
   "source": []
  },
  {
   "cell_type": "markdown",
   "id": "ee3b147d-a8e9-45a2-bd06-ae0bf7021ebf",
   "metadata": {},
   "source": [
    "#### Q5. Explain the concept of levels of measurement and give an example of a variable for each level."
   ]
  },
  {
   "cell_type": "code",
   "execution_count": 11,
   "id": "4baf92d5-0235-45fd-9f2c-2bea1b3554b6",
   "metadata": {},
   "outputs": [],
   "source": [
    "# It tell us how precisely variables are recorded. it have 4 levels :-"
   ]
  },
  {
   "cell_type": "code",
   "execution_count": 12,
   "id": "a35743eb-0851-4ec2-ad4c-3de8a926b7fd",
   "metadata": {},
   "outputs": [],
   "source": [
    "# 1) Nominal scale data\n",
    "\n",
    "#   - the data can only be categorized\n",
    "#   - Example gender , colour , etc"
   ]
  },
  {
   "cell_type": "code",
   "execution_count": 13,
   "id": "2afa9ec5-a027-4654-8854-a5657cc82e37",
   "metadata": {},
   "outputs": [],
   "source": [
    "# 2) Ordinal scale data\n",
    "\n",
    "#   - the data can be categorized and ranked\n",
    "#   - Example Top 5 Olympic medallists, etc,."
   ]
  },
  {
   "cell_type": "code",
   "execution_count": 14,
   "id": "e2d5ef47-98c3-4bdf-9af4-97f9a678452f",
   "metadata": {},
   "outputs": [],
   "source": [
    "# 3) Interval scale data\n",
    "\n",
    "#    - the data can be categorized, ranked, and evenly spaced\n",
    "#    - Example Test scores (e.g., IQ or exams) , Temperature in Fahrenheit or Celsius , etc."
   ]
  },
  {
   "cell_type": "code",
   "execution_count": 15,
   "id": "b5567138-98bb-4529-86ce-a929c103ae47",
   "metadata": {},
   "outputs": [],
   "source": [
    "# 4) Ratio scale data\n",
    "\n",
    "#   - the data can be categorized, ranked, evenly spaced, and has a natural zero.\n",
    "#   - Example Height, Age, Weight, Temperature in Kelvin , etc."
   ]
  },
  {
   "cell_type": "code",
   "execution_count": null,
   "id": "889f66a1-423e-4bce-8e59-08b76e5af5e6",
   "metadata": {},
   "outputs": [],
   "source": []
  },
  {
   "cell_type": "code",
   "execution_count": null,
   "id": "7f19e644-efa1-4b28-9688-31f0f4c589de",
   "metadata": {},
   "outputs": [],
   "source": []
  },
  {
   "cell_type": "markdown",
   "id": "f1bdaaf4-1248-4cb4-bf0b-280ef30ede21",
   "metadata": {},
   "source": [
    "#### Q6. Why is it important to understand the level of measurement when analyzing data? Provide an \n",
    "#### example to illustrate your answer."
   ]
  },
  {
   "cell_type": "code",
   "execution_count": 16,
   "id": "301677ff-24e8-4aea-b728-6485f6bfe5bb",
   "metadata": {},
   "outputs": [],
   "source": [
    "# It is important to understand the level of measurement of variables in research, because the level of measurement\n",
    "# determines the type of statistical analysis that can be conducted, and, therefore, the type of conclusions that \n",
    "# can be drawn from the research."
   ]
  },
  {
   "cell_type": "code",
   "execution_count": 17,
   "id": "6a33f53d-ffbb-4bb9-b3f5-aeca5fd168c2",
   "metadata": {},
   "outputs": [],
   "source": [
    "# Example:-\n",
    "\n",
    "# The classic example of the interval scale is temperature measured on the Fahrenheit or Celsius scales. \n",
    "# Let's suppose today's high temperature is 60º F and thirty days ago the high temperature was only 30º F.\n",
    "# We can say that the difference between the high temperatures on these two days is 30 degrees."
   ]
  },
  {
   "cell_type": "code",
   "execution_count": null,
   "id": "3699a677-a34e-4d30-ae0a-5086817729f4",
   "metadata": {},
   "outputs": [],
   "source": []
  },
  {
   "cell_type": "code",
   "execution_count": null,
   "id": "1f481293-3007-48b5-9e36-4d7ee1154a4a",
   "metadata": {},
   "outputs": [],
   "source": []
  },
  {
   "cell_type": "markdown",
   "id": "9b0bd992-dbd7-4296-915c-7b8cb88c16c2",
   "metadata": {},
   "source": [
    "#### Q7. How nominal data type is different from ordinal data type."
   ]
  },
  {
   "cell_type": "code",
   "execution_count": 18,
   "id": "acfe035c-0415-49ab-98d2-de4dc503b54f",
   "metadata": {},
   "outputs": [],
   "source": [
    "# Nominal data do not provide any quantitative value, and you cannot perform numeric operations \n",
    "#          with them or compare them with one another. \n",
    "\n",
    "# However, Ordinal data provide sequence, and it is possible to assign numbers to the data. \n",
    "#                  No numeric operations can be performed."
   ]
  },
  {
   "cell_type": "code",
   "execution_count": null,
   "id": "8505d7ee-4203-409d-ad80-2a70438bc9ec",
   "metadata": {},
   "outputs": [],
   "source": []
  },
  {
   "cell_type": "code",
   "execution_count": null,
   "id": "f0029080-4c5a-4f3d-a25a-b6ba431da471",
   "metadata": {},
   "outputs": [],
   "source": []
  },
  {
   "cell_type": "markdown",
   "id": "71f6c6d4-8a45-44af-8334-67208bd3f7b0",
   "metadata": {},
   "source": [
    "#### Q8. Which type of plot can be used to display data in terms of range ?"
   ]
  },
  {
   "cell_type": "code",
   "execution_count": 19,
   "id": "76c2ae26-0f99-49de-881f-a2c28accedae",
   "metadata": {},
   "outputs": [],
   "source": [
    "# A range plot sometimes looks like a bar chart can be used to display data in terms of range."
   ]
  },
  {
   "cell_type": "code",
   "execution_count": null,
   "id": "6bebc7c9-6295-4b0a-940a-445cfcb6f9fe",
   "metadata": {},
   "outputs": [],
   "source": []
  },
  {
   "cell_type": "code",
   "execution_count": null,
   "id": "85140a07-9169-4af4-a418-db1ad5bdbb1e",
   "metadata": {},
   "outputs": [],
   "source": []
  },
  {
   "cell_type": "markdown",
   "id": "956f5544-dcdf-4e73-b6e4-e61acbf0fb62",
   "metadata": {},
   "source": [
    "#### Q9. Describe the difference between descriptive and inferential statistics. Give an example of each \n",
    "#### type of statistics and explain how they are used."
   ]
  },
  {
   "cell_type": "code",
   "execution_count": 21,
   "id": "fc6dfbfd-0b98-4066-9073-824e791da9de",
   "metadata": {},
   "outputs": [],
   "source": [
    "#  Descriptive Statistics helps to organize, analyze, and present the data in a meaningful way.\n",
    "\n",
    "#                           example:-  average hight of entire classroom"
   ]
  },
  {
   "cell_type": "code",
   "execution_count": 22,
   "id": "878da160-15e0-4125-a109-abbad8276b29",
   "metadata": {},
   "outputs": [],
   "source": [
    "#  Inferential statistics allows comparing data and making predictions and hypotheses with it.\n",
    "\n",
    "#                           - Example include a person’s name, hair color, and occupation."
   ]
  },
  {
   "cell_type": "code",
   "execution_count": null,
   "id": "c94cd8f3-e02b-49c6-b3d3-dbac9612d6af",
   "metadata": {},
   "outputs": [],
   "source": []
  },
  {
   "cell_type": "code",
   "execution_count": null,
   "id": "edf8d436-03ae-4938-b9f1-e0c52b09142c",
   "metadata": {},
   "outputs": [],
   "source": []
  },
  {
   "cell_type": "markdown",
   "id": "c046bdeb-64b7-464e-8f33-0e9f9f8c12c2",
   "metadata": {},
   "source": [
    "#### Q10. What are some common measures of central tendency and variability used in statistics? Explain \n",
    "#### how each measure can be used to describe a dataset."
   ]
  },
  {
   "cell_type": "code",
   "execution_count": 23,
   "id": "856061b2-64a7-4e76-8592-dcaf23132bfb",
   "metadata": {},
   "outputs": [],
   "source": [
    "# The central tendency measure is defined as the number used to represent the center or middle of a set\n",
    "# of data values. The three commonly used measures of central tendency are the mean, median, and mode. \n",
    "\n",
    "# A statistic that tells us how the data values are dispersed or spread out is called the measure of dispersion."
   ]
  },
  {
   "cell_type": "code",
   "execution_count": null,
   "id": "a75b155e-9471-410b-abe7-3ab75d3011db",
   "metadata": {},
   "outputs": [],
   "source": []
  }
 ],
 "metadata": {
  "kernelspec": {
   "display_name": "Python 3 (ipykernel)",
   "language": "python",
   "name": "python3"
  },
  "language_info": {
   "codemirror_mode": {
    "name": "ipython",
    "version": 3
   },
   "file_extension": ".py",
   "mimetype": "text/x-python",
   "name": "python",
   "nbconvert_exporter": "python",
   "pygments_lexer": "ipython3",
   "version": "3.10.8"
  }
 },
 "nbformat": 4,
 "nbformat_minor": 5
}
